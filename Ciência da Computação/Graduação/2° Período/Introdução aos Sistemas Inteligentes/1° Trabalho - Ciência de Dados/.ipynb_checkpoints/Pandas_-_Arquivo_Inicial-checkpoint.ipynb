{
 "cells": [
  {
   "cell_type": "markdown",
   "id": "16a0a774",
   "metadata": {},
   "source": [
    "# Pandas\n",
    "\n",
    "- Alta performance e fácil uso para trabalhar com dados\n",
    "- Tem muitas coisas que lembram o Excel\n",
    "- O DataFrame é usado em várias outras bibliotecas de Ciência de Dados\n",
    "- https://pandas.pydata.org/\n",
    "<br><br>\n",
    "- O Pandas vai <font color=\"blue\">**desde a importação da base, passando por toda a análise exploratória até a exibição de gráficos** </font>"
   ]
  },
  {
   "cell_type": "code",
   "execution_count": 4,
   "id": "2f94dbb9",
   "metadata": {},
   "outputs": [],
   "source": [
    "# Importando o pandas\n",
    "import pandas"
   ]
  },
  {
   "cell_type": "markdown",
   "id": "08418400",
   "metadata": {},
   "source": [
    "### Conseguimos importar praticamente todas as bases de dados usando o pandas"
   ]
  },
  {
   "cell_type": "markdown",
   "id": "bd28f61a",
   "metadata": {},
   "source": [
    "**Importar uma base em csv:** <br>\n",
    "<font color=\"blue\">**pd.read_csv(**</font>\"arquivo_excel.xlsx\"<font color=\"blue\">**)**</font>\n",
    "- O arquivo que vamos usar é o `exams.csv`"
   ]
  },
  {
   "cell_type": "code",
   "execution_count": 5,
   "id": "afb2ee61",
   "metadata": {},
   "outputs": [
    {
     "data": {
      "text/html": [
       "<div>\n",
       "<style scoped>\n",
       "    .dataframe tbody tr th:only-of-type {\n",
       "        vertical-align: middle;\n",
       "    }\n",
       "\n",
       "    .dataframe tbody tr th {\n",
       "        vertical-align: top;\n",
       "    }\n",
       "\n",
       "    .dataframe thead th {\n",
       "        text-align: right;\n",
       "    }\n",
       "</style>\n",
       "<table border=\"1\" class=\"dataframe\">\n",
       "  <thead>\n",
       "    <tr style=\"text-align: right;\">\n",
       "      <th></th>\n",
       "      <th>gender</th>\n",
       "      <th>race/ethnicity</th>\n",
       "      <th>parental level of education</th>\n",
       "      <th>lunch</th>\n",
       "      <th>test preparation course</th>\n",
       "      <th>math score</th>\n",
       "      <th>reading score</th>\n",
       "      <th>writing score</th>\n",
       "    </tr>\n",
       "  </thead>\n",
       "  <tbody>\n",
       "    <tr>\n",
       "      <th>0</th>\n",
       "      <td>male</td>\n",
       "      <td>group A</td>\n",
       "      <td>high school</td>\n",
       "      <td>standard</td>\n",
       "      <td>completed</td>\n",
       "      <td>67</td>\n",
       "      <td>67</td>\n",
       "      <td>63</td>\n",
       "    </tr>\n",
       "    <tr>\n",
       "      <th>1</th>\n",
       "      <td>female</td>\n",
       "      <td>group D</td>\n",
       "      <td>some high school</td>\n",
       "      <td>free/reduced</td>\n",
       "      <td>none</td>\n",
       "      <td>40</td>\n",
       "      <td>59</td>\n",
       "      <td>55</td>\n",
       "    </tr>\n",
       "    <tr>\n",
       "      <th>2</th>\n",
       "      <td>male</td>\n",
       "      <td>group E</td>\n",
       "      <td>some college</td>\n",
       "      <td>free/reduced</td>\n",
       "      <td>none</td>\n",
       "      <td>59</td>\n",
       "      <td>60</td>\n",
       "      <td>50</td>\n",
       "    </tr>\n",
       "    <tr>\n",
       "      <th>3</th>\n",
       "      <td>male</td>\n",
       "      <td>group B</td>\n",
       "      <td>high school</td>\n",
       "      <td>standard</td>\n",
       "      <td>none</td>\n",
       "      <td>77</td>\n",
       "      <td>78</td>\n",
       "      <td>68</td>\n",
       "    </tr>\n",
       "    <tr>\n",
       "      <th>4</th>\n",
       "      <td>male</td>\n",
       "      <td>group E</td>\n",
       "      <td>associate's degree</td>\n",
       "      <td>standard</td>\n",
       "      <td>completed</td>\n",
       "      <td>78</td>\n",
       "      <td>73</td>\n",
       "      <td>68</td>\n",
       "    </tr>\n",
       "    <tr>\n",
       "      <th>...</th>\n",
       "      <td>...</td>\n",
       "      <td>...</td>\n",
       "      <td>...</td>\n",
       "      <td>...</td>\n",
       "      <td>...</td>\n",
       "      <td>...</td>\n",
       "      <td>...</td>\n",
       "      <td>...</td>\n",
       "    </tr>\n",
       "    <tr>\n",
       "      <th>995</th>\n",
       "      <td>male</td>\n",
       "      <td>group C</td>\n",
       "      <td>high school</td>\n",
       "      <td>standard</td>\n",
       "      <td>none</td>\n",
       "      <td>73</td>\n",
       "      <td>70</td>\n",
       "      <td>65</td>\n",
       "    </tr>\n",
       "    <tr>\n",
       "      <th>996</th>\n",
       "      <td>male</td>\n",
       "      <td>group D</td>\n",
       "      <td>associate's degree</td>\n",
       "      <td>free/reduced</td>\n",
       "      <td>completed</td>\n",
       "      <td>85</td>\n",
       "      <td>91</td>\n",
       "      <td>92</td>\n",
       "    </tr>\n",
       "    <tr>\n",
       "      <th>997</th>\n",
       "      <td>female</td>\n",
       "      <td>group C</td>\n",
       "      <td>some high school</td>\n",
       "      <td>free/reduced</td>\n",
       "      <td>none</td>\n",
       "      <td>32</td>\n",
       "      <td>35</td>\n",
       "      <td>41</td>\n",
       "    </tr>\n",
       "    <tr>\n",
       "      <th>998</th>\n",
       "      <td>female</td>\n",
       "      <td>group C</td>\n",
       "      <td>some college</td>\n",
       "      <td>standard</td>\n",
       "      <td>none</td>\n",
       "      <td>73</td>\n",
       "      <td>74</td>\n",
       "      <td>82</td>\n",
       "    </tr>\n",
       "    <tr>\n",
       "      <th>999</th>\n",
       "      <td>male</td>\n",
       "      <td>group A</td>\n",
       "      <td>some college</td>\n",
       "      <td>standard</td>\n",
       "      <td>completed</td>\n",
       "      <td>65</td>\n",
       "      <td>60</td>\n",
       "      <td>62</td>\n",
       "    </tr>\n",
       "  </tbody>\n",
       "</table>\n",
       "<p>1000 rows × 8 columns</p>\n",
       "</div>"
      ],
      "text/plain": [
       "     gender race/ethnicity parental level of education         lunch  \\\n",
       "0      male        group A                 high school      standard   \n",
       "1    female        group D            some high school  free/reduced   \n",
       "2      male        group E                some college  free/reduced   \n",
       "3      male        group B                 high school      standard   \n",
       "4      male        group E          associate's degree      standard   \n",
       "..      ...            ...                         ...           ...   \n",
       "995    male        group C                 high school      standard   \n",
       "996    male        group D          associate's degree  free/reduced   \n",
       "997  female        group C            some high school  free/reduced   \n",
       "998  female        group C                some college      standard   \n",
       "999    male        group A                some college      standard   \n",
       "\n",
       "    test preparation course  math score  reading score  writing score  \n",
       "0                 completed          67             67             63  \n",
       "1                      none          40             59             55  \n",
       "2                      none          59             60             50  \n",
       "3                      none          77             78             68  \n",
       "4                 completed          78             73             68  \n",
       "..                      ...         ...            ...            ...  \n",
       "995                    none          73             70             65  \n",
       "996               completed          85             91             92  \n",
       "997                    none          32             35             41  \n",
       "998                    none          73             74             82  \n",
       "999               completed          65             60             62  \n",
       "\n",
       "[1000 rows x 8 columns]"
      ]
     },
     "execution_count": 5,
     "metadata": {},
     "output_type": "execute_result"
    }
   ],
   "source": [
    "# Importando a base em csv\n",
    "pandas.read_csv('exams.csv')"
   ]
  },
  {
   "cell_type": "markdown",
   "id": "ce1e3260",
   "metadata": {},
   "source": [
    "### E também visualizar todas as informações sobre essa base"
   ]
  },
  {
   "cell_type": "code",
   "execution_count": 25,
   "id": "b0fb0db0",
   "metadata": {},
   "outputs": [],
   "source": [
    "# Visualizando as 5 primeiras linhas"
   ]
  },
  {
   "cell_type": "code",
   "execution_count": 26,
   "id": "70908609",
   "metadata": {},
   "outputs": [],
   "source": [
    "# Visualizando as 5 últimas linhas"
   ]
  },
  {
   "cell_type": "code",
   "execution_count": 27,
   "id": "999b5640",
   "metadata": {},
   "outputs": [],
   "source": [
    "# Tamanho da base"
   ]
  },
  {
   "cell_type": "code",
   "execution_count": 28,
   "id": "95fbe99d",
   "metadata": {},
   "outputs": [],
   "source": [
    "# Visualizando primeiras e últimas linhas e tamanho da base"
   ]
  },
  {
   "cell_type": "markdown",
   "id": "85754126",
   "metadata": {},
   "source": [
    "### Além disso, também podemos ver as informações da base"
   ]
  },
  {
   "cell_type": "code",
   "execution_count": 29,
   "id": "bb367dca",
   "metadata": {},
   "outputs": [],
   "source": [
    "# Mostrando somente o tipo dos dados"
   ]
  },
  {
   "cell_type": "code",
   "execution_count": 30,
   "id": "a9ef3df4",
   "metadata": {},
   "outputs": [],
   "source": [
    "# Mostrando o tipo de dados e os valores vazios"
   ]
  },
  {
   "cell_type": "code",
   "execution_count": 31,
   "id": "fd8854c3",
   "metadata": {},
   "outputs": [],
   "source": [
    "# Contando os valores vazios por coluna"
   ]
  },
  {
   "cell_type": "markdown",
   "id": "d6509c56",
   "metadata": {},
   "source": [
    "### Principais conceitos estatísticos"
   ]
  },
  {
   "cell_type": "code",
   "execution_count": null,
   "id": "7bdeb081",
   "metadata": {},
   "outputs": [],
   "source": [
    "dados = {\n",
    "    'X': [1,2,3] #,4,5,6,7,8,9,10,11]\n",
    "}\n",
    "\n",
    "dados = pd.DataFrame(dados)"
   ]
  },
  {
   "cell_type": "code",
   "execution_count": 32,
   "id": "1350bfa4",
   "metadata": {},
   "outputs": [],
   "source": [
    "# Mostrando a média"
   ]
  },
  {
   "cell_type": "code",
   "execution_count": 33,
   "id": "c84ad5f9",
   "metadata": {},
   "outputs": [],
   "source": [
    "# Mostrando a contagem de registros"
   ]
  },
  {
   "cell_type": "code",
   "execution_count": 34,
   "id": "22d341ee",
   "metadata": {},
   "outputs": [],
   "source": [
    "# Mediana"
   ]
  },
  {
   "cell_type": "code",
   "execution_count": 35,
   "id": "45ba2ea2",
   "metadata": {},
   "outputs": [],
   "source": [
    "# Desvio Padrão"
   ]
  },
  {
   "cell_type": "code",
   "execution_count": 36,
   "id": "6f755c77",
   "metadata": {},
   "outputs": [],
   "source": [
    "# Trazendo todo o resumo estatístico utilizando o describe"
   ]
  },
  {
   "cell_type": "markdown",
   "id": "bda8bfe9",
   "metadata": {},
   "source": [
    "**Voltando para a base do nosso problema**"
   ]
  },
  {
   "cell_type": "code",
   "execution_count": null,
   "id": "65a240b6",
   "metadata": {},
   "outputs": [],
   "source": [
    "# Trazendo o resumo estatístico para a nossa base"
   ]
  },
  {
   "cell_type": "markdown",
   "id": "b2d537f1",
   "metadata": {},
   "source": [
    "### Escolhendo colunas da base"
   ]
  },
  {
   "cell_type": "markdown",
   "id": "1cbf9252",
   "metadata": {},
   "source": [
    "**Buscando por uma coluna:** <br>"
   ]
  },
  {
   "cell_type": "code",
   "execution_count": 37,
   "id": "27c49fc7",
   "metadata": {},
   "outputs": [],
   "source": [
    "# Podemos usar o nome da coluna entre aspas"
   ]
  },
  {
   "cell_type": "code",
   "execution_count": 38,
   "id": "6d2cc028",
   "metadata": {},
   "outputs": [],
   "source": [
    "# Ou usar o ponto"
   ]
  },
  {
   "cell_type": "code",
   "execution_count": 39,
   "id": "84a5d9a4",
   "metadata": {},
   "outputs": [],
   "source": [
    "# Usando uma coluna, podemos contar a quantidade de vezes que cada valor aparece"
   ]
  },
  {
   "cell_type": "code",
   "execution_count": 40,
   "id": "25057206",
   "metadata": {},
   "outputs": [],
   "source": [
    "# Selecionando um conjunto de colunas"
   ]
  },
  {
   "cell_type": "markdown",
   "id": "ac5ff6b2",
   "metadata": {},
   "source": [
    "### Também conseguimos fazer filtros na base"
   ]
  },
  {
   "cell_type": "code",
   "execution_count": null,
   "id": "69a30085",
   "metadata": {},
   "outputs": [],
   "source": [
    "# Visualizando novamente na base"
   ]
  },
  {
   "cell_type": "code",
   "execution_count": null,
   "id": "c4b880a8",
   "metadata": {},
   "outputs": [],
   "source": [
    "# Verificando clientes que pagaram mais de 100 libras "
   ]
  },
  {
   "cell_type": "code",
   "execution_count": null,
   "id": "ff15a197",
   "metadata": {},
   "outputs": [],
   "source": [
    "# Verificando se tiveram clientes que pagaram menos de 5 euros"
   ]
  },
  {
   "cell_type": "markdown",
   "id": "d320d0d1",
   "metadata": {},
   "source": [
    "**Podemos fazer filtros usando E / OU**"
   ]
  },
  {
   "cell_type": "code",
   "execution_count": null,
   "id": "2dd55a82",
   "metadata": {},
   "outputs": [],
   "source": [
    "# Verificando se alguém viajou com esposa E filhos "
   ]
  },
  {
   "cell_type": "markdown",
   "id": "a020bb68",
   "metadata": {},
   "source": [
    "#### Uma forma muito útil de fazer seleção de dados é usando o <font color=\"blue\">.loc()</font> ou o <font color=\"blue\">.iloc()</font>"
   ]
  },
  {
   "cell_type": "code",
   "execution_count": null,
   "id": "8bc338de",
   "metadata": {},
   "outputs": [],
   "source": [
    "# O .loc() permite fazer a busca da mesma forma acima"
   ]
  },
  {
   "cell_type": "code",
   "execution_count": null,
   "id": "2d4b1968",
   "metadata": {},
   "outputs": [],
   "source": [
    "# Ele também permite usar argumentos lógicos"
   ]
  },
  {
   "cell_type": "code",
   "execution_count": null,
   "id": "7055abe3",
   "metadata": {},
   "outputs": [],
   "source": [
    "# Ele permite filtrar colunas de forma muito prática"
   ]
  },
  {
   "cell_type": "markdown",
   "id": "a0df2371",
   "metadata": {},
   "source": [
    "**Já o <font color=\"blue\">.iloc() </font> vai usar o índice para filtrar**"
   ]
  },
  {
   "cell_type": "code",
   "execution_count": null,
   "id": "24f43dcc",
   "metadata": {},
   "outputs": [],
   "source": [
    "# Buscando as linhas de 30 (inclusive) a 40 (exclusive)"
   ]
  },
  {
   "cell_type": "code",
   "execution_count": null,
   "id": "10f50b81",
   "metadata": {},
   "outputs": [],
   "source": [
    "# Também posso usar para buscar apenas colunas específicas"
   ]
  },
  {
   "cell_type": "markdown",
   "id": "450ef7a3",
   "metadata": {},
   "source": [
    "### Por fim, conseguimos fazer gráficos com o Pandas de forma bem simples\n",
    "\n",
    "- https://pandas.pydata.org/docs/user_guide/visualization.html"
   ]
  },
  {
   "cell_type": "code",
   "execution_count": null,
   "id": "2049c72c",
   "metadata": {},
   "outputs": [],
   "source": [
    "import matplotlib.pyplot as plt"
   ]
  },
  {
   "cell_type": "code",
   "execution_count": null,
   "id": "3faf7d52",
   "metadata": {},
   "outputs": [],
   "source": [
    "# É possível fazer um histograma simples"
   ]
  },
  {
   "cell_type": "code",
   "execution_count": null,
   "id": "429b9077",
   "metadata": {},
   "outputs": [],
   "source": [
    "# Gráficos de barras"
   ]
  },
  {
   "cell_type": "code",
   "execution_count": null,
   "id": "a55cd7fe",
   "metadata": {},
   "outputs": [],
   "source": [
    "# E até gráficos mais complexos como o de densidade"
   ]
  }
 ],
 "metadata": {
  "kernelspec": {
   "display_name": "Python 3 (ipykernel)",
   "language": "python",
   "name": "python3"
  },
  "language_info": {
   "codemirror_mode": {
    "name": "ipython",
    "version": 3
   },
   "file_extension": ".py",
   "mimetype": "text/x-python",
   "name": "python",
   "nbconvert_exporter": "python",
   "pygments_lexer": "ipython3",
   "version": "3.9.13"
  }
 },
 "nbformat": 4,
 "nbformat_minor": 5
}
